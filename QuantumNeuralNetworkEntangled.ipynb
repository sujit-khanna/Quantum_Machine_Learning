{
 "cells": [
  {
   "cell_type": "markdown",
   "metadata": {
    "jupyter": {
     "outputs_hidden": true
    }
   },
   "source": [
    "# Implementation of a pure (non-hybrid) Quantum Neural Network with entangled states\n",
    "## The notebook below implements a multi-layered perceptron based Neural Network with hidden layers implemented replicated by varational circuits\n",
    "    - The implementation is a muticlass classifier that tries to predict the 3 output classes\n",
    "    - This is a novel algorithm that is not implemented on the pennylane tutorial website\n",
    "    - The dataset used is IRIS flower classification dataset, with 5 input features and 3 output classes\n",
    "    - The performance is evaluated on the test dataset with train-test split of 75%:25%\n"
   ]
  },
  {
   "cell_type": "code",
   "execution_count": 11,
   "metadata": {},
   "outputs": [],
   "source": [
    "import pennylane as qml\n",
    "from pennylane import numpy as np\n",
    "from pennylane.optimize import NesterovMomentumOptimizer, AdamOptimizer\n",
    "from pennylane.init import strong_ent_layers_uniform\n",
    "from pennylane.templates.layers import StronglyEntanglingLayers\n",
    "from pennylane.templates import AmplitudeEmbedding\n"
   ]
  },
  {
   "cell_type": "markdown",
   "metadata": {},
   "source": [
    "## Defining the Model Parameters"
   ]
  },
  {
   "cell_type": "code",
   "execution_count": 12,
   "metadata": {},
   "outputs": [],
   "source": [
    "n_qubits = 3 # for representing three output classes\n",
    "num_layers = 3 # number of hidden layers of the quantum neural network\n",
    "q_depth = num_layers # Circuit depth which is also equal to num_layers\n",
    "l_r = 0.1 # Learning rate for the optimizer\n",
    "num_epochs = 100 # number of training epochs"
   ]
  },
  {
   "cell_type": "markdown",
   "metadata": {},
   "source": [
    "## Instantiating our quantum simulator at the backend"
   ]
  },
  {
   "cell_type": "code",
   "execution_count": 13,
   "metadata": {},
   "outputs": [],
   "source": [
    "dev = qml.device(\"default.qubit\", wires=n_qubits)"
   ]
  },
  {
   "cell_type": "markdown",
   "metadata": {},
   "source": [
    "## Defining the hidden quantum layer which will be repeated num_layers times i.e. 6 times"
   ]
  },
  {
   "cell_type": "code",
   "execution_count": 14,
   "metadata": {},
   "outputs": [],
   "source": [
    "@qml.qnode(dev)\n",
    "def quantum_net(weights, x=None):\n",
    "    \"\"\"\n",
    "    The variational quantum circuit.\n",
    "    \"\"\"\n",
    "    AmplitudeEmbedding(x, wires=range(n_qubits),normalize=True, pad=0.3)\n",
    "    # AngleEmbedding(x, wires=range(n_qubits))\n",
    "    StronglyEntanglingLayers(weights, wires=range(n_qubits))\n",
    "    return tuple(qml.expval(qml.PauliZ(wires=i)) for i in range(n_qubits))"
   ]
  },
  {
   "cell_type": "markdown",
   "metadata": {},
   "source": [
    "## Representation of a single layered QNN"
   ]
  },
  {
   "cell_type": "raw",
   "metadata": {},
   "source": [
    "One layer QNN Classifier:\n",
    "\n",
    " 0: ──╭QubitStateVector(M0)──Rot(2.353, 5.974, 4.599)──╭C──────╭X──┤ ⟨Z⟩ \n",
    " 1: ──├QubitStateVector(M0)──Rot(3.761, 0.98, 0.98)────╰X──╭C──│───┤ ⟨Z⟩ \n",
    " 2: ──╰QubitStateVector(M0)──Rot(0.365, 5.442, 3.777)──────╰X──╰C──┤ ⟨Z⟩ \n",
    "\n",
    "M0=Input features\n",
    "M0 =\n",
    "[0.80642366 0.5315065  0.25658935 0.03665562 0.         0.\n",
    " 0.         0.        ]"
   ]
  },
  {
   "cell_type": "markdown",
   "metadata": {},
   "source": [
    "## Defining the cost function of the classifier i.e. categorical crossentropy\n"
   ]
  },
  {
   "cell_type": "code",
   "execution_count": 15,
   "metadata": {},
   "outputs": [],
   "source": [
    "def softmax(X):\n",
    "    prob = np.exp(X)\n",
    "    probs = prob / np.sum(prob, axis=1, keepdims=True)\n",
    "    return probs\n",
    "def cost(thetas, X, actual_labels):\n",
    "    b = X.shape[0]\n",
    "    yhats = []\n",
    "    for i in range(b):\n",
    "        yhat = quantum_net(thetas[0], x=X[i])\n",
    "        # print(quantum_net.draw())\n",
    "        yhats.append(yhat)\n",
    "    st = np.stack(yhats)\n",
    "    st_prob = softmax(st)\n",
    "    y = np.zeros((actual_labels.shape[0], n_qubits))\n",
    "    y[np.arange(actual_labels.shape[0]), actual_labels] = 1\n",
    "    return -np.mean(y*np.log(st_prob))"
   ]
  },
  {
   "cell_type": "markdown",
   "metadata": {},
   "source": [
    "## Implementing the training procedure"
   ]
  },
  {
   "cell_type": "markdown",
   "metadata": {},
   "source": [
    "### 1. Loading the dataset"
   ]
  },
  {
   "cell_type": "code",
   "execution_count": 16,
   "metadata": {},
   "outputs": [
    {
     "name": "stdout",
     "output_type": "stream",
     "text": [
      "First X sample: [5.1 3.5 1.4 0.2]\n"
     ]
    }
   ],
   "source": [
    "num_features = 4\n",
    "data = np.loadtxt(\"multiclass_classification/iris.csv\", delimiter=\",\")\n",
    "X = data[:, 0:num_features]\n",
    "X_pad = X\n",
    "print(\"First X sample:\", X_pad[0])"
   ]
  },
  {
   "cell_type": "markdown",
   "metadata": {},
   "source": [
    "### 2. Normalizing the dataset and creating training and validation(test) set"
   ]
  },
  {
   "cell_type": "code",
   "execution_count": 17,
   "metadata": {},
   "outputs": [
    {
     "name": "stdout",
     "output_type": "stream",
     "text": [
      "First X sample (normalized): [0.80377277 0.55160877 0.22064351 0.0315205 ]\n"
     ]
    }
   ],
   "source": [
    "# normalize each input\n",
    "normalization = np.sqrt(np.sum(X_pad ** 2, -1))\n",
    "X_norm = (X_pad.T / normalization).T\n",
    "print(\"First X sample (normalized):\", X_norm[0])\n",
    "\n",
    "Y = data[:, -1].astype(int)\n",
    "\n",
    "np.random.seed(0)\n",
    "num_data = len(Y)\n",
    "num_train = int(0.75 * num_data)\n",
    "index = np.random.permutation(range(num_data))\n",
    "feats_train = X_pad[index[:num_train]]\n",
    "Y_train = Y[index[:num_train]]\n",
    "feats_val = X_pad[index[num_train:]]\n",
    "Y_val = Y[index[num_train:]]\n",
    "\n",
    "# We need these later for plotting\n",
    "X_train = X_pad[index[:num_train]]\n",
    "X_val = X_pad[index[num_train:]]"
   ]
  },
  {
   "cell_type": "markdown",
   "metadata": {},
   "source": [
    "### 3. Initializing the weights and optimization routing for the quantum neural network"
   ]
  },
  {
   "cell_type": "code",
   "execution_count": 18,
   "metadata": {},
   "outputs": [],
   "source": [
    "theta_weights = strong_ent_layers_uniform(num_layers, n_qubits, seed=42)\n",
    "theta_bias = 0.0\n",
    "theta_init = (theta_weights, theta_bias)  # initial weights\n",
    "opt = AdamOptimizer(l_r)\n",
    "batch_size = 10\n",
    "var = theta_init"
   ]
  },
  {
   "cell_type": "markdown",
   "metadata": {},
   "source": [
    "### 4. Full Circuit Representation"
   ]
  },
  {
   "cell_type": "code",
   "execution_count": 19,
   "metadata": {},
   "outputs": [
    {
     "name": "stdout",
     "output_type": "stream",
     "text": [
      " 0: ──╭QubitStateVector(M0)──Rot(2.353, 5.974, 4.599)──╭C───────────────────────────────╭X──Rot(4.449, 0.129, 6.094)──╭C──╭X───Rot(2.714, 1.83, 3.844)────────────────────────────╭C──────╭X──┤ ⟨Z⟩ \n",
      " 1: ──├QubitStateVector(M0)──Rot(3.761, 0.98, 0.98)────╰X──╭C──Rot(5.23, 1.334, 1.142)──│─────────────────────────────│───╰C──╭X────────────────────────Rot(0.876, 1.836, 2.302)──╰X──╭C──│───┤ ⟨Z⟩ \n",
      " 2: ──╰QubitStateVector(M0)──Rot(0.365, 5.442, 3.777)──────╰X───────────────────────────╰C──Rot(1.152, 1.912, 3.297)──╰X──────╰C────────────────────────Rot(2.866, 4.933, 1.255)──────╰X──╰C──┤ ⟨Z⟩ \n",
      "M0 =\n",
      "[0.67602006 0.32635451 0.59443143 0.27973244 0.03496655 0.03496655\n",
      " 0.03496655 0.03496655]\n",
      "\n"
     ]
    }
   ],
   "source": [
    "yhat = quantum_net(theta_init[0], x=X_train[0])\n",
    "print(quantum_net.draw())"
   ]
  },
  {
   "cell_type": "raw",
   "metadata": {},
   "source": [
    " 0: ──╭QubitStateVector(M0)──Rot(2.353, 5.974, 4.599)──╭C───────────────────────────────╭X──Rot(4.449, 0.129, 6.094)──╭C──╭X───Rot(2.714, 1.83, 3.844)────────────────────────────╭C──────╭X──┤ ⟨Z⟩ \n",
    " 1: ──├QubitStateVector(M0)──Rot(3.761, 0.98, 0.98)────╰X──╭C──Rot(5.23, 1.334, 1.142)──│─────────────────────────────│───╰C──╭X────────────────────────Rot(0.876, 1.836, 2.302)──╰X──╭C──│───┤ ⟨Z⟩ \n",
    " 2: ──╰QubitStateVector(M0)──Rot(0.365, 5.442, 3.777)──────╰X───────────────────────────╰C──Rot(1.152, 1.912, 3.297)──╰X──────╰C────────────────────────Rot(2.866, 4.933, 1.255)──────╰X──╰C──┤ ⟨Z⟩ \n",
    "M0 =\n",
    "[0.67767924 0.32715549 0.59589036 0.28041899 0.         0.\n",
    " 0.         0.        ]"
   ]
  },
  {
   "cell_type": "markdown",
   "metadata": {},
   "source": [
    "### 5. Initiating the training loop"
   ]
  },
  {
   "cell_type": "code",
   "execution_count": 20,
   "metadata": {},
   "outputs": [
    {
     "name": "stdout",
     "output_type": "stream",
     "text": [
      "Iter:     1 | Cost: 0.4103933 | Acc train: 0.3392857 | Acc Test: 0.3157895 \n",
      "Iter:     2 | Cost: 0.4003187 | Acc train: 0.3392857 | Acc Test: 0.3157895 \n",
      "Iter:     3 | Cost: 0.3921734 | Acc train: 0.3392857 | Acc Test: 0.3157895 \n",
      "Iter:     4 | Cost: 0.3859017 | Acc train: 0.3392857 | Acc Test: 0.3157895 \n",
      "Iter:     5 | Cost: 0.3826671 | Acc train: 0.3392857 | Acc Test: 0.3157895 \n",
      "Iter:     6 | Cost: 0.3816475 | Acc train: 0.3392857 | Acc Test: 0.3157895 \n",
      "Iter:     7 | Cost: 0.3801277 | Acc train: 0.3392857 | Acc Test: 0.3157895 \n",
      "Iter:     8 | Cost: 0.3774603 | Acc train: 0.3392857 | Acc Test: 0.3157895 \n",
      "Iter:     9 | Cost: 0.3744315 | Acc train: 0.3392857 | Acc Test: 0.3157895 \n",
      "Iter:    10 | Cost: 0.3705041 | Acc train: 0.3392857 | Acc Test: 0.3157895 \n",
      "Iter:    11 | Cost: 0.3656563 | Acc train: 0.3392857 | Acc Test: 0.3157895 \n",
      "Iter:    12 | Cost: 0.3602021 | Acc train: 0.3392857 | Acc Test: 0.3157895 \n",
      "Iter:    13 | Cost: 0.3542129 | Acc train: 0.3392857 | Acc Test: 0.3157895 \n",
      "Iter:    14 | Cost: 0.3484175 | Acc train: 0.4196429 | Acc Test: 0.3684211 \n",
      "Iter:    15 | Cost: 0.3439543 | Acc train: 0.6696429 | Acc Test: 0.6315789 \n",
      "Iter:    16 | Cost: 0.3397751 | Acc train: 0.6785714 | Acc Test: 0.6315789 \n",
      "Iter:    17 | Cost: 0.3367938 | Acc train: 0.6785714 | Acc Test: 0.6315789 \n",
      "Iter:    18 | Cost: 0.3358052 | Acc train: 0.6785714 | Acc Test: 0.6315789 \n",
      "Iter:    19 | Cost: 0.3373541 | Acc train: 0.3750000 | Acc Test: 0.3421053 \n",
      "Iter:    20 | Cost: 0.3394658 | Acc train: 0.3392857 | Acc Test: 0.3157895 \n",
      "Iter:    21 | Cost: 0.3414062 | Acc train: 0.3392857 | Acc Test: 0.3157895 \n",
      "Iter:    22 | Cost: 0.3428511 | Acc train: 0.3392857 | Acc Test: 0.3157895 \n",
      "Iter:    23 | Cost: 0.3432647 | Acc train: 0.3392857 | Acc Test: 0.3157895 \n",
      "Iter:    24 | Cost: 0.3436091 | Acc train: 0.3392857 | Acc Test: 0.3157895 \n",
      "Iter:    25 | Cost: 0.3433510 | Acc train: 0.3392857 | Acc Test: 0.3157895 \n",
      "Iter:    26 | Cost: 0.3415483 | Acc train: 0.3392857 | Acc Test: 0.3157895 \n",
      "Iter:    27 | Cost: 0.3395761 | Acc train: 0.3392857 | Acc Test: 0.3157895 \n",
      "Iter:    28 | Cost: 0.3368531 | Acc train: 0.3392857 | Acc Test: 0.3157895 \n",
      "Iter:    29 | Cost: 0.3338124 | Acc train: 0.3392857 | Acc Test: 0.3157895 \n",
      "Iter:    30 | Cost: 0.3304759 | Acc train: 0.3392857 | Acc Test: 0.3421053 \n",
      "Iter:    31 | Cost: 0.3264133 | Acc train: 0.5357143 | Acc Test: 0.4736842 \n",
      "Iter:    32 | Cost: 0.3229185 | Acc train: 0.6785714 | Acc Test: 0.6315789 \n",
      "Iter:    33 | Cost: 0.3205378 | Acc train: 0.6785714 | Acc Test: 0.6315789 \n",
      "Iter:    34 | Cost: 0.3191244 | Acc train: 0.6785714 | Acc Test: 0.6315789 \n",
      "Iter:    35 | Cost: 0.3166540 | Acc train: 0.6875000 | Acc Test: 0.6315789 \n",
      "Iter:    36 | Cost: 0.3142307 | Acc train: 0.7142857 | Acc Test: 0.6578947 \n",
      "Iter:    37 | Cost: 0.3115717 | Acc train: 0.6785714 | Acc Test: 0.6315789 \n",
      "Iter:    38 | Cost: 0.3096870 | Acc train: 0.6875000 | Acc Test: 0.6315789 \n",
      "Iter:    39 | Cost: 0.3084312 | Acc train: 0.6785714 | Acc Test: 0.6315789 \n",
      "Iter:    40 | Cost: 0.3074003 | Acc train: 0.6785714 | Acc Test: 0.6315789 \n",
      "Iter:    41 | Cost: 0.3068105 | Acc train: 0.6785714 | Acc Test: 0.6315789 \n",
      "Iter:    42 | Cost: 0.3062488 | Acc train: 0.6785714 | Acc Test: 0.6315789 \n",
      "Iter:    43 | Cost: 0.3049266 | Acc train: 0.6785714 | Acc Test: 0.6315789 \n",
      "Iter:    44 | Cost: 0.3038318 | Acc train: 0.6785714 | Acc Test: 0.6315789 \n",
      "Iter:    45 | Cost: 0.3040515 | Acc train: 0.6785714 | Acc Test: 0.6315789 \n",
      "Iter:    46 | Cost: 0.3030015 | Acc train: 0.6785714 | Acc Test: 0.6315789 \n",
      "Iter:    47 | Cost: 0.3020186 | Acc train: 0.6785714 | Acc Test: 0.6315789 \n",
      "Iter:    48 | Cost: 0.3017384 | Acc train: 0.6785714 | Acc Test: 0.6315789 \n",
      "Iter:    49 | Cost: 0.3029783 | Acc train: 0.6785714 | Acc Test: 0.6315789 \n",
      "Iter:    50 | Cost: 0.3043086 | Acc train: 0.6785714 | Acc Test: 0.6315789 \n",
      "Iter:    51 | Cost: 0.3043052 | Acc train: 0.6785714 | Acc Test: 0.6315789 \n",
      "Iter:    52 | Cost: 0.3035840 | Acc train: 0.6785714 | Acc Test: 0.6315789 \n",
      "Iter:    53 | Cost: 0.3029643 | Acc train: 0.6785714 | Acc Test: 0.6315789 \n",
      "Iter:    54 | Cost: 0.3029408 | Acc train: 0.6785714 | Acc Test: 0.6315789 \n",
      "Iter:    55 | Cost: 0.3024604 | Acc train: 0.6785714 | Acc Test: 0.6315789 \n",
      "Iter:    56 | Cost: 0.3012841 | Acc train: 0.6785714 | Acc Test: 0.6315789 \n",
      "Iter:    57 | Cost: 0.2989287 | Acc train: 0.6785714 | Acc Test: 0.6315789 \n",
      "Iter:    58 | Cost: 0.2955308 | Acc train: 0.6785714 | Acc Test: 0.6315789 \n",
      "Iter:    59 | Cost: 0.2920776 | Acc train: 0.6785714 | Acc Test: 0.6315789 \n",
      "Iter:    60 | Cost: 0.2920760 | Acc train: 0.6785714 | Acc Test: 0.6315789 \n",
      "Iter:    61 | Cost: 0.2955692 | Acc train: 0.6785714 | Acc Test: 0.6315789 \n",
      "Iter:    62 | Cost: 0.2992620 | Acc train: 0.6785714 | Acc Test: 0.6315789 \n",
      "Iter:    63 | Cost: 0.2971863 | Acc train: 0.6785714 | Acc Test: 0.6315789 \n",
      "Iter:    64 | Cost: 0.2922706 | Acc train: 0.6785714 | Acc Test: 0.6315789 \n",
      "Iter:    65 | Cost: 0.2891209 | Acc train: 0.6875000 | Acc Test: 0.6315789 \n",
      "Iter:    66 | Cost: 0.2898534 | Acc train: 0.7500000 | Acc Test: 0.7894737 \n",
      "Iter:    67 | Cost: 0.2914213 | Acc train: 0.8571429 | Acc Test: 0.8157895 \n",
      "Iter:    68 | Cost: 0.2926035 | Acc train: 0.8214286 | Acc Test: 0.7368421 \n",
      "Iter:    69 | Cost: 0.2934121 | Acc train: 0.8125000 | Acc Test: 0.6842105 \n",
      "Iter:    70 | Cost: 0.2945008 | Acc train: 0.7500000 | Acc Test: 0.6315789 \n",
      "Iter:    71 | Cost: 0.2968633 | Acc train: 0.5178571 | Acc Test: 0.4736842 \n",
      "Iter:    72 | Cost: 0.2973534 | Acc train: 0.5446429 | Acc Test: 0.4736842 \n",
      "Iter:    73 | Cost: 0.2972928 | Acc train: 0.6160714 | Acc Test: 0.5526316 \n",
      "Iter:    74 | Cost: 0.2969586 | Acc train: 0.6517857 | Acc Test: 0.6578947 \n",
      "Iter:    75 | Cost: 0.2937408 | Acc train: 0.6517857 | Acc Test: 0.6842105 \n",
      "Iter:    76 | Cost: 0.2895343 | Acc train: 0.7678571 | Acc Test: 0.8157895 \n",
      "Iter:    77 | Cost: 0.2865475 | Acc train: 0.9196429 | Acc Test: 0.9210526 \n"
     ]
    }
   ],
   "source": [
    "cost_list, train_acc, test_acc = [], [], []\n",
    "for it in range(num_epochs):\n",
    "    # Update the weights by one optimizer step\n",
    "    batch_index = np.random.randint(0, num_train, (batch_size,))\n",
    "    feats_train_batch = feats_train[batch_index]\n",
    "    Y_train_batch = Y_train[batch_index]\n",
    "    var = opt.step(lambda v: cost(v, feats_train_batch, Y_train_batch), var)\n",
    "    predictions_train = [quantum_net(var[0], x=f) for f in feats_train]\n",
    "    predictions_val = [quantum_net(var[0], x=f) for f in feats_val]\n",
    "    pred_train_labels = np.argmax(softmax(predictions_train), axis=1)\n",
    "    pred_val_labels = np.argmax(softmax(predictions_val), axis=1)\n",
    "    # Compute accuracy on train and validation set\n",
    "    acc_train = np.mean(Y_train==pred_train_labels)\n",
    "    acc_val = np.mean(Y_val==pred_val_labels)\n",
    "    print(\n",
    "        \"Iter: {:5d} | Cost: {:0.7f} | Acc train: {:0.7f} | Acc Test: {:0.7f} \"\n",
    "        \"\".format(it + 1, cost(var, X, Y), acc_train, acc_val)\n",
    "    )\n",
    "    cost_list.append(cost(var, X, Y)), train_acc.append(acc_train), test_acc.append(acc_val)\n",
    "    if acc_val>=0.90 and acc_train>=0.90 and it>=50:\n",
    "        break\n"
   ]
  },
  {
   "cell_type": "code",
   "execution_count": 24,
   "metadata": {},
   "outputs": [],
   "source": [
    "costs_list = [x.item() for x in cost_list]"
   ]
  },
  {
   "cell_type": "code",
   "execution_count": 30,
   "metadata": {},
   "outputs": [
    {
     "data": {
      "text/plain": [
       "76"
      ]
     },
     "execution_count": 30,
     "metadata": {},
     "output_type": "execute_result"
    }
   ],
   "source": [
    "len(iters)"
   ]
  },
  {
   "cell_type": "code",
   "execution_count": 36,
   "metadata": {},
   "outputs": [
    {
     "data": {
      "image/png": "[encoded data removed]",
      "text/plain": [
       "<Figure size 1080x720 with 2 Axes>"
      ]
     },
     "metadata": {
      "needs_background": "light"
     },
     "output_type": "display_data"
    }
   ],
   "source": [
    "import matplotlib.pyplot as plt\n",
    "fig, ax1 = plt.subplots(figsize=(15, 10))\n",
    "iters = np.arange(0, it + 1, 1)\n",
    "colors = [\"tab:red\", \"tab:blue\", \"tab:green\"]\n",
    "ax1.set_xlabel(\"Iteration\", fontsize=17)\n",
    "ax1.set_ylabel(\"Cost\", fontsize=17, color=colors[0])\n",
    "ax1.plot(iters, costs_list, color=colors[0], linewidth=4, label='Entropy loss')\n",
    "ax1.tick_params(axis=\"y\", labelsize=14, labelcolor=colors[0])\n",
    "\n",
    "ax2 = ax1.twinx()\n",
    "ax2.set_ylabel(\"Train Test Acc.\", fontsize=17, color=colors[1])\n",
    "ax2.plot(iters, test_acc, color=colors[1], linewidth=4, label='test Accuracy')\n",
    "ax2.plot(iters, train_acc, color=colors[2], linewidth=4, label='train Accuracy')\n",
    "\n",
    "\n",
    "ax2.tick_params(axis=\"x\", labelsize=14)\n",
    "ax2.tick_params(axis=\"y\", labelsize=14)\n",
    "\n",
    "plt.grid(False)\n",
    "plt.tight_layout()\n",
    "lines_labels = [ax.get_legend_handles_labels() for ax in fig.axes]\n",
    "lines, labels = [sum(lol, []) for lol in zip(*lines_labels)]\n",
    "\n",
    "# finally we invoke the legend (that you probably would like to customize...)\n",
    "\n",
    "fig.legend(lines, labels)\n",
    "plt.show()\n",
    "plt.show()"
   ]
  },
  {
   "cell_type": "code",
   "execution_count": 38,
   "metadata": {},
   "outputs": [
    {
     "name": "stdout",
     "output_type": "stream",
     "text": [
      "Processing /Users/sujitkhanna/Library/Caches/pip/wheels/76/03/bb/589d421d27431bcd2c6da284d5f2286c8e3b2ea3cf1594c074/sklearn-0.0-py2.py3-none-any.whl\n",
      "Collecting scikit-learn\n",
      "  Using cached scikit_learn-0.23.2-cp37-cp37m-macosx_10_9_x86_64.whl (7.2 MB)\n",
      "Collecting threadpoolctl>=2.0.0\n",
      "  Using cached threadpoolctl-2.1.0-py3-none-any.whl (12 kB)\n",
      "Collecting joblib>=0.11\n",
      "  Using cached joblib-0.17.0-py3-none-any.whl (301 kB)\n",
      "Requirement already satisfied: scipy>=0.19.1 in /opt/anaconda3/envs/QML/lib/python3.7/site-packages (from scikit-learn->sklearn) (1.5.4)\n",
      "Requirement already satisfied: numpy>=1.13.3 in /opt/anaconda3/envs/QML/lib/python3.7/site-packages (from scikit-learn->sklearn) (1.19.4)\n",
      "Installing collected packages: threadpoolctl, joblib, scikit-learn, sklearn\n",
      "Successfully installed joblib-0.17.0 scikit-learn-0.23.2 sklearn-0.0 threadpoolctl-2.1.0\n"
     ]
    }
   ],
   "source": [
    "!pip3 install sklearn\n",
    "from sklearn.metrics import confusion_matrix"
   ]
  },
  {
   "cell_type": "code",
   "execution_count": 39,
   "metadata": {},
   "outputs": [
    {
     "name": "stdout",
     "output_type": "stream",
     "text": [
      "[[12  0  0]\n",
      " [ 0 11  3]\n",
      " [ 0  0 12]]\n"
     ]
    }
   ],
   "source": [
    "print(confusion_matrix(Y_val,pred_val_labels))"
   ]
  },
  {
   "cell_type": "code",
   "execution_count": 42,
   "metadata": {},
   "outputs": [
    {
     "name": "stdout",
     "output_type": "stream",
     "text": [
      "              precision    recall  f1-score   support\n",
      "\n",
      "           0       1.00      1.00      1.00        12\n",
      "           1       1.00      0.79      0.88        14\n",
      "           2       0.80      1.00      0.89        12\n",
      "\n",
      "    accuracy                           0.92        38\n",
      "   macro avg       0.93      0.93      0.92        38\n",
      "weighted avg       0.94      0.92      0.92        38\n",
      "\n"
     ]
    }
   ],
   "source": [
    "from sklearn.metrics import classification_report, jaccard_score\n",
    "print(classification_report(Y_val,pred_val_labels))"
   ]
  },
  {
   "cell_type": "code",
   "execution_count": 43,
   "metadata": {},
   "outputs": [
    {
     "data": {
      "text/plain": [
       "0.8578947368421053"
      ]
     },
     "execution_count": 43,
     "metadata": {},
     "output_type": "execute_result"
    }
   ],
   "source": [
    "jaccard_score(Y_val, pred_val_labels, average='weighted')"
   ]
  },
  {
   "cell_type": "code",
   "execution_count": null,
   "metadata": {},
   "outputs": [],
   "source": []
  }
 ],
 "metadata": {
  "kernelspec": {
   "display_name": "Python 3",
   "language": "python",
   "name": "python3"
  },
  "language_info": {
   "codemirror_mode": {
    "name": "ipython",
    "version": 3
   },
   "file_extension": ".py",
   "mimetype": "text/x-python",
   "name": "python",
   "nbconvert_exporter": "python",
   "pygments_lexer": "ipython3",
   "version": "3.7.9"
  }
 },
 "nbformat": 4,
 "nbformat_minor": 4
}
